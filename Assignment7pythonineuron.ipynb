{
 "cells": [
  {
   "cell_type": "raw",
   "id": "2f7923ea-a818-482a-bd27-b4fd9b034216",
   "metadata": {},
   "source": [
    " 1.What is the name of the feature responsible for generating Regex objects?"
   ]
  },
  {
   "cell_type": "code",
   "execution_count": null,
   "id": "0849ce71-98af-4496-a029-9c0415dcde6b",
   "metadata": {},
   "outputs": [],
   "source": [
    "import re\n",
    "re.compile(\"string\")\n",
    "#The re.compile() function returns Regex objects."
   ]
  },
  {
   "cell_type": "raw",
   "id": "eabbeaec-ef73-4f99-aa85-9e0da5e0ce11",
   "metadata": {},
   "source": [
    "2.Why do raw strings often appear in Regex objects?"
   ]
  },
  {
   "cell_type": "code",
   "execution_count": null,
   "id": "47040393-bd38-426b-8e9e-b1b719af93ed",
   "metadata": {},
   "outputs": [],
   "source": [
    "Ans- Raw strings are used so that backslashes do not have to be escaped"
   ]
  },
  {
   "cell_type": "code",
   "execution_count": null,
   "id": "6008933f-a097-4f73-9a60-8f3b3c3ca795",
   "metadata": {},
   "outputs": [],
   "source": [
    "3. What is the return value of the search() method?"
   ]
  },
  {
   "cell_type": "code",
   "execution_count": null,
   "id": "4684e0f0-58fb-4dd5-b2e3-3a8a5ea96830",
   "metadata": {},
   "outputs": [],
   "source": [
    "Ans . The search() method searches a string for a specified value, and returns the position of the match.\n",
    "\n",
    "The search value can be string or a regular expression. This method returns -1 if no match is found\n",
    "\n"
   ]
  },
  {
   "cell_type": "code",
   "execution_count": null,
   "id": "076d863b-cfef-4678-9054-2cbf75f72d92",
   "metadata": {},
   "outputs": [],
   "source": [
    "4. From a Match item, how do you get the actual strings that match the pattern?"
   ]
  },
  {
   "cell_type": "code",
   "execution_count": null,
   "id": "feb63809-0417-4bb5-8ac2-9aae05fec41d",
   "metadata": {},
   "outputs": [],
   "source": [
    "phoneNumRegex = re.compile(r'\\d\\d\\d-\\d\\d\\d-\\d\\d\\d\\d')\n",
    "mo = phoneNumRegex.search('My number is 345-444-4542.')\n",
    "print('Phone number is: ' + mo.group())\n",
    "#Calling matchingObject.group() will return the string.\n",
    "     \n",
    "Phone number is: 345-444-4542"
   ]
  },
  {
   "cell_type": "code",
   "execution_count": null,
   "id": "bc099c84-aa8e-4afe-a0e2-b6f21a360165",
   "metadata": {},
   "outputs": [],
   "source": [
    "5. In the regex which created from the r&#39;(\\d\\d\\d)-(\\d\\d\\d-\\d\\d\\d\\d)&#39;, what does group zero cover?\n",
    "Group 2? Group 1?"
   ]
  },
  {
   "cell_type": "code",
   "execution_count": null,
   "id": "9cb7b747-c588-41ba-9b45-ebd30f61007d",
   "metadata": {},
   "outputs": [],
   "source": [
    "Ans-\n",
    "phoneNumRegex = re.compile(r'(\\d\\d\\d)-(\\d\\d\\d-\\d\\d\\d\\d)')\n",
    "mo = phoneNumRegex.search('My number is 345-444-4542.')\n",
    "mo.group(1)\n",
    "     \n",
    "'345'\n",
    "mo.group(2)\n",
    "\n",
    "     \n",
    "'444-4542'\n",
    "\n",
    "mo.group(0)\n",
    "     \n",
    "'345-444-4542'"
   ]
  },
  {
   "cell_type": "code",
   "execution_count": null,
   "id": "5d105f6d-70f0-45ab-9806-93c547cf6336",
   "metadata": {},
   "outputs": [],
   "source": [
    "6. In standard expression syntax, parentheses and intervals have distinct meanings. How can you tell\n",
    "a regex that you want it to fit real parentheses and periods?"
   ]
  },
  {
   "cell_type": "code",
   "execution_count": null,
   "id": "5b526bce-058b-4f74-a227-96c252347b41",
   "metadata": {},
   "outputs": [],
   "source": [
    "Periods and parentheses can be escaped with a backslash: ., (, and )."
   ]
  },
  {
   "cell_type": "code",
   "execution_count": null,
   "id": "8b16e291-bd3a-4bad-b2d0-287a03beea1b",
   "metadata": {},
   "outputs": [],
   "source": [
    "7. The findall() method returns a string list or a list of string tuples. What causes it to return one of\n",
    "the two options?"
   ]
  },
  {
   "cell_type": "code",
   "execution_count": null,
   "id": "ddb36aa4-27fb-4566-a7f6-d5121314bf10",
   "metadata": {},
   "outputs": [],
   "source": [
    "Ans. If the regex has no groups, a list of strings is returned. If the regex has groups, a list of tuples of strings is\n",
    "\n",
    "returned."
   ]
  },
  {
   "cell_type": "code",
   "execution_count": null,
   "id": "96994793-f9d4-419e-987b-fce3dd1e535d",
   "metadata": {},
   "outputs": [],
   "source": [
    "8. In standard expressions, what does the | character mean?"
   ]
  },
  {
   "cell_type": "code",
   "execution_count": null,
   "id": "b5e1b328-004a-4f81-83eb-71a7886096b6",
   "metadata": {},
   "outputs": [],
   "source": [
    "Ans. The | character is called a pipe. You can use it anywhere you want to match one of many expressions.\n",
    "\n",
    "For example, the regular expression r'Cricket|Soccer Sport' will match either 'Cricket' or 'Soccer Sport'.\n",
    "\n",
    "When both Cricket and Soccer Sport occur in the searched string, the first occurrence of matching text will be returned as the Match object.\n",
    "\n",
    "The | character signifies matching “either, or” between two groups"
   ]
  },
  {
   "cell_type": "code",
   "execution_count": null,
   "id": "cdf95aa3-f369-444f-a90f-b00485c5b6f7",
   "metadata": {},
   "outputs": [],
   "source": [
    "9. In regular expressions, what does the character stand for?"
   ]
  },
  {
   "cell_type": "code",
   "execution_count": null,
   "id": "e9764711-5b43-4db9-a58b-4e1b03be0c8a",
   "metadata": {},
   "outputs": [],
   "source": [
    "Ans. The ? character can either mean “match zero or one of the preceding group”.\n",
    "\n",
    "\n",
    "batRegex = re.compile(r'Bat(wo)?man')\n",
    "mo1 = batRegex.search('The Adventures of Batman')\n",
    "mo1.group()\n",
    "     \n",
    "'Batman'"
   ]
  },
  {
   "cell_type": "code",
   "execution_count": null,
   "id": "85d6a204-53d5-42bd-be06-6302e5456d66",
   "metadata": {},
   "outputs": [],
   "source": [
    "10.In regular expressions, what is the difference between the + and * characters?"
   ]
  },
  {
   "cell_type": "code",
   "execution_count": null,
   "id": "06d71b81-5e28-4d68-8796-eb9620d3effc",
   "metadata": {},
   "outputs": [],
   "source": [
    "Ans. The + matches one or more. The * matches zero or more"
   ]
  },
  {
   "cell_type": "code",
   "execution_count": null,
   "id": "2983317e-3770-41a4-9296-4bc75dbb47b5",
   "metadata": {},
   "outputs": [],
   "source": [
    "11. What is the difference between {4} and {4,5} in regular expression?"
   ]
  },
  {
   "cell_type": "code",
   "execution_count": null,
   "id": "82e06548-31a7-4f06-bfc1-17a9c9f364ce",
   "metadata": {},
   "outputs": [],
   "source": []
  },
  {
   "cell_type": "code",
   "execution_count": null,
   "id": "9d599e79-0f19-4513-b5a8-9a42ab96f382",
   "metadata": {},
   "outputs": [],
   "source": [
    "12. What do you mean by the \\d, \\w, and \\s shorthand character classes signify in regular\n",
    "expressions?"
   ]
  },
  {
   "cell_type": "code",
   "execution_count": null,
   "id": "140ebd11-8ca7-4c51-808c-b3403474ec79",
   "metadata": {},
   "outputs": [],
   "source": [
    "Ans .The \\d, stands for single digit, Any numeric digit from 0 to 9\n",
    "\n",
    "\\w, stands for single word, Any letter, numeric digit, or the underscore character. (Think of this as matching “word” characters.) \\s stands for single space character, Any space, tab, or newline character. (Think of this as matching “space” characters.)"
   ]
  },
  {
   "cell_type": "code",
   "execution_count": null,
   "id": "0b5554d4-2700-4ebe-9cb1-60cfe78a147c",
   "metadata": {},
   "outputs": [],
   "source": [
    "13. What do means by \\D, \\W, and \\S shorthand character classes signify in regular expressions?"
   ]
  },
  {
   "cell_type": "code",
   "execution_count": null,
   "id": "2951c25f-a522-431c-9599-1fe885a6e0e8",
   "metadata": {},
   "outputs": [],
   "source": [
    "\\D - > Any character that is not a numeric digit from 0 to 9.\n",
    "\n",
    "\\W - > Any character that is not a letter, numeric digit, or the underscore character.\n",
    "\\S - > Any character that is not a space, tab, or newline."
   ]
  },
  {
   "cell_type": "code",
   "execution_count": null,
   "id": "61541afc-a8fa-4cc8-b134-726a959b085b",
   "metadata": {},
   "outputs": [],
   "source": [
    "14. What is the difference between .*? and .*?"
   ]
  },
  {
   "cell_type": "code",
   "execution_count": null,
   "id": "b271709f-3008-4b1d-8101-62bd148aa2af",
   "metadata": {},
   "outputs": [],
   "source": [
    "To match any and all text in a non-greedy fashion, use the dot, star, and question mark (.?). Like with braces, the question mark tells Python to match in a non-greedy way.\n",
    "\n",
    "\n",
    "\n",
    "greedyRegex = re.compile(r'<.*>')\n",
    "mo = greedyRegex.search(' for dinner.>')\n",
    "mo.group()\n",
    "     \n",
    "'<To serve man> for dinner.>'"
   ]
  },
  {
   "cell_type": "code",
   "execution_count": null,
   "id": "9ee1e9c1-48d1-46d5-b97f-e46efd9fc88a",
   "metadata": {},
   "outputs": [],
   "source": [
    "15. What is the syntax for matching both numbers and lowercase letters with a character class?"
   ]
  },
  {
   "cell_type": "code",
   "execution_count": null,
   "id": "b18bff76-7fcd-46af-b1d9-9a673c0dd0b0",
   "metadata": {},
   "outputs": [],
   "source": [
    "Ans. Either [0-9a-z] or [a-z0-9]\n",
    "\n",
    "\n",
    "reg1 = re.compile(r'[0-9a-z]')\n",
    "reg2 = re.compile(r'[a-z0-9]')\n",
    "\n",
    "mo1 = reg1.search('100 times I am Reading  this for 100 th time')\n",
    "mo1.group()\n",
    "     \n",
    "'1'\n",
    "\n",
    "reg2 = re.compile(r'[a-z0-9]')\n",
    "\n",
    "mo1 = reg2.search('times I am Reading  this for 100 th time')\n",
    "mo1.group()\n",
    "     \n",
    "'t'"
   ]
  },
  {
   "cell_type": "code",
   "execution_count": null,
   "id": "ef6923df-7689-4d1f-945b-d61ece99d3d1",
   "metadata": {},
   "outputs": [],
   "source": [
    "16. What is the procedure for making a normal expression in regax case insensitive?"
   ]
  },
  {
   "cell_type": "code",
   "execution_count": null,
   "id": "46721f25-3a8e-4064-9f60-cafef4feab86",
   "metadata": {},
   "outputs": [],
   "source": [
    "Passing re.I or re.IGNORECASE as the second argument to re.compile() will make the matching case insensitive\n",
    "\n",
    "\n",
    "casesen = re.compile(r'machine', re.I)\n",
    "casesen.search('Machine learning is part of data science').group()\n",
    "     \n",
    "'Machine'\n",
    "\n",
    "casesen.search('MACHINE is learning.').group()\n",
    "     \n",
    "'MACHINE'"
   ]
  },
  {
   "cell_type": "code",
   "execution_count": null,
   "id": "7f07dcf1-fbc0-4064-8935-823e9c0cf1f8",
   "metadata": {},
   "outputs": [],
   "source": [
    "17. What does the . character normally match? What does it match if re.DOTALL is passed as 2nd\n",
    "argument in re.compile()?"
   ]
  },
  {
   "cell_type": "code",
   "execution_count": null,
   "id": "65f00b28-e7b0-4401-b140-fc4a3432f593",
   "metadata": {},
   "outputs": [],
   "source": [
    "The . character normally matches any character except the newline character.\n",
    "\n",
    "If re.DOTALL is passed as the second argument to re.compile(), then the dot will also match newline characters."
   ]
  },
  {
   "cell_type": "code",
   "execution_count": null,
   "id": "7e494dd7-6ee9-4cf6-b050-b31bff22ddd6",
   "metadata": {},
   "outputs": [],
   "source": [
    "18. If numRegex = re.compile(r'\\d+'), what will numRegex.sub('X', '11 drummers, 10 pipers, five rings, 4 hen') return?"
   ]
  },
  {
   "cell_type": "code",
   "execution_count": null,
   "id": "f7d1ab71-c421-40f4-82ee-e0b7ad142db4",
   "metadata": {},
   "outputs": [],
   "source": [
    "\n",
    "numRegex = re.compile(r'\\d+')\n",
    "mo = numRegex.sub('X', '11 drummers, 10 pipers, five rings, 4 hen')\n",
    "mo\n",
    "     \n",
    "'X drummers, X pipers, five rings, X hen'"
   ]
  },
  {
   "cell_type": "code",
   "execution_count": null,
   "id": "3d89af92-0afe-4595-99b7-228c0eec6f27",
   "metadata": {},
   "outputs": [],
   "source": [
    "19. What does passing re.VERBOSE as the 2nd argument to re.compile() allow to do?"
   ]
  },
  {
   "cell_type": "code",
   "execution_count": null,
   "id": "efca63a3-c58b-4987-be8d-86b87a327d42",
   "metadata": {},
   "outputs": [],
   "source": [
    " The re.VERBOSE argument allows you to add whitespace and comments to the string passed to re.compile()"
   ]
  },
  {
   "cell_type": "code",
   "execution_count": null,
   "id": "76fe3b36-479c-445b-b898-2b718f296273",
   "metadata": {},
   "outputs": [],
   "source": [
    "20. How would you write a regex that match a number with comma for every three digits? It must\n",
    "match the given following:'42','1,234','6,368,745',but not the following:\n",
    "'12,34,567',(which has only two digits between the commas)\n",
    "'1234'(which lacks commas)\n"
   ]
  },
  {
   "cell_type": "code",
   "execution_count": null,
   "id": "feb963a5-76a9-4aa0-88f4-8732de7ba045",
   "metadata": {},
   "outputs": [],
   "source": [
    "reg1 = re.compile(r'^\\d{1,3}(,\\d{3})*$')\n",
    "mo1 = reg1.search('42')\n",
    "mo1.group()\n",
    "     \n",
    "'42'\n",
    "\n",
    "reg1 = re.compile(r'^\\d{1,3}(,\\d{3})*$')\n",
    "mo1 = reg1.search('1,234')\n",
    "mo1.group()\n",
    "     \n",
    "'1,234'\n",
    "\n",
    "\n",
    "reg1 = re.compile(r'^\\d{1,3}(,\\d{3})*$')\n",
    "mo1 = reg1.search('6,368,745')\n",
    "mo1.group()\n",
    "     \n",
    "'6,368,745'\n"
   ]
  },
  {
   "cell_type": "code",
   "execution_count": null,
   "id": "1955fd47-5442-444a-9199-a2aa240f0163",
   "metadata": {},
   "outputs": [],
   "source": [
    "21. How would you write a regex that matches the full name of someone whose last name is\n",
    "Watanabe? You can assume that the first name that comes before it will always be one word that\n",
    "begins with a capital letter. The regex must match the following:'Haruto Watanabe&#39','Alice Watanabe&#39',&#39;RoboCop Watanabe&#39;\n",
    "but not the following:\n",
    "'haruto Watanabe&#39' (where the first name is not capitalized)\n",
    "'Mr. Watanabe&'where the preceding word has a nonletter character)\n",
    "'Watanabe'which has no first name)\n",
    "'Haruto watanabe'(where Watanabe is not capitalized)"
   ]
  },
  {
   "cell_type": "code",
   "execution_count": null,
   "id": "59e1ce9a-9852-44ca-b215-93314022444d",
   "metadata": {},
   "outputs": [],
   "source": [
    "\n",
    "name = re.compile(r'[A-Z][a-z]*\\sWatanabe')\n",
    "reg1 = re.compile(r'^\\d{1,3}(,\\d{haruto Watanabe3})*$')\n",
    "mo1 = name.search('Haruto Watanabe')\n",
    "mo1.group()\n",
    "     \n",
    "'Haruto Watanabe'\n",
    "\n",
    "\n",
    "\n"
   ]
  },
  {
   "cell_type": "code",
   "execution_count": null,
   "id": "d79ddd37-d4de-47c8-804d-3ba424837823",
   "metadata": {},
   "outputs": [],
   "source": [
    "22. How would you write a regex that matches a sentence where the first word is either Alice, Bob,\n",
    "or Carol; the second word is either eats, pets, or throws; the third word is apples, cats, or baseballs;\n",
    "and the sentence ends with a period? This regex should be case-insensitive. It must match the\n",
    "following:\n",
    "Alice eats apples\n",
    "Bob pets cats\n",
    "Carol throws baseballs.\n",
    "Alice throws Apples.\n",
    "BOB EATS CATS.\n",
    "but not the following:\n",
    "RoboCop eats apples.\n",
    "ALICE THROWS FOOTBALLS.\n",
    "Carol eats 7 cats."
   ]
  },
  {
   "cell_type": "code",
   "execution_count": null,
   "id": "86d6201e-eb4e-462b-9e43-fc8921dcf745",
   "metadata": {},
   "outputs": [],
   "source": []
  },
  {
   "cell_type": "code",
   "execution_count": null,
   "id": "45c44d08-8cda-4ec8-a6a4-9e06efa8d759",
   "metadata": {},
   "outputs": [],
   "source": []
  }
 ],
 "metadata": {
  "kernelspec": {
   "display_name": "Python 3 (ipykernel)",
   "language": "python",
   "name": "python3"
  },
  "language_info": {
   "codemirror_mode": {
    "name": "ipython",
    "version": 3
   },
   "file_extension": ".py",
   "mimetype": "text/x-python",
   "name": "python",
   "nbconvert_exporter": "python",
   "pygments_lexer": "ipython3",
   "version": "3.10.6"
  }
 },
 "nbformat": 4,
 "nbformat_minor": 5
}
